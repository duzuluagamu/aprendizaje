{
  "nbformat": 4,
  "nbformat_minor": 0,
  "metadata": {
    "colab": {
      "provenance": [],
      "toc_visible": true,
      "authorship_tag": "ABX9TyMrvm7ukIfIvLyJguQriYhj",
      "include_colab_link": true
    },
    "kernelspec": {
      "name": "python3",
      "display_name": "Python 3"
    },
    "language_info": {
      "name": "python"
    }
  },
  "cells": [
    {
      "cell_type": "markdown",
      "metadata": {
        "id": "view-in-github",
        "colab_type": "text"
      },
      "source": [
        "<a href=\"https://colab.research.google.com/github/duzuluagamu/aprendizaje/blob/main/EJEMPLO1.ipynb\" target=\"_parent\"><img src=\"https://colab.research.google.com/assets/colab-badge.svg\" alt=\"Open In Colab\"/></a>"
      ]
    },
    {
      "cell_type": "markdown",
      "source": [
        "## TITULO\n"
      ],
      "metadata": {
        "id": "4T4Pq-2Kozjx"
      }
    },
    {
      "cell_type": "code",
      "source": [
        "print(\"hola mundo\")"
      ],
      "metadata": {
        "colab": {
          "base_uri": "https://localhost:8080/"
        },
        "id": "NSoGGleqqmFM",
        "outputId": "1cb43351-d34c-496b-bbc9-f6342b9818df"
      },
      "execution_count": 10,
      "outputs": [
        {
          "output_type": "stream",
          "name": "stdout",
          "text": [
            "hola mundo\n"
          ]
        }
      ]
    },
    {
      "cell_type": "code",
      "source": [
        "imprimir"
      ],
      "metadata": {
        "id": "6ivniGFKshzL"
      },
      "execution_count": null,
      "outputs": []
    },
    {
      "cell_type": "markdown",
      "source": [
        "Ejemplo **de** *clase*"
      ],
      "metadata": {
        "id": "IpO1EP77ru6D"
      }
    },
    {
      "cell_type": "markdown",
      "source": [
        "# Actualización de contenido"
      ],
      "metadata": {
        "id": "Q-87JNKLsn_D"
      }
    }
  ]
}